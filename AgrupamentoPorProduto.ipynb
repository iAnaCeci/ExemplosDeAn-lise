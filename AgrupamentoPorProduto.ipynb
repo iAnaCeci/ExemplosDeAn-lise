{
  "nbformat": 4,
  "nbformat_minor": 0,
  "metadata": {
    "colab": {
      "provenance": []
    },
    "kernelspec": {
      "name": "python3",
      "display_name": "Python 3"
    },
    "language_info": {
      "name": "python"
    }
  },
  "cells": [
    {
      "cell_type": "code",
      "execution_count": 1,
      "metadata": {
        "id": "l_8L1u4jmIpU",
        "outputId": "e84cdf5f-ec82-464b-b783-3577a7249130",
        "colab": {
          "base_uri": "https://localhost:8080/"
        }
      },
      "outputs": [
        {
          "output_type": "stream",
          "name": "stdout",
          "text": [
            "         Receita  Custo  Lucro\n",
            "Produto                       \n",
            "A          15700   9300   6400\n",
            "B          14300   8100   6200\n",
            "C          16500  10200   6300\n"
          ]
        }
      ],
      "source": [
        "import pandas as pd\n",
        "\n",
        "# Simulando dados\n",
        "dados = {\n",
        "    'Produto': ['A', 'B', 'A', 'C', 'B', 'C', 'A'],\n",
        "    'Receita': [5000, 7000, 5500, 8000, 7300, 8500, 5200],\n",
        "    'Custo': [3000, 4000, 3200, 5000, 4100, 5200, 3100]\n",
        "}\n",
        "\n",
        "df = pd.DataFrame(dados)\n",
        "df['Lucro'] = df['Receita'] - df['Custo']\n",
        "\n",
        "# Agrupar por produto\n",
        "resultado = df.groupby('Produto').sum()\n",
        "\n",
        "print(resultado[['Receita', 'Custo', 'Lucro']])\n"
      ]
    }
  ]
}